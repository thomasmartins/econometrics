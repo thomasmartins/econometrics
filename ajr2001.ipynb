{
  "cells": [
    {
      "metadata": {
        "trusted": true
      },
      "cell_type": "code",
      "source": "!pip install linearmodels",
      "execution_count": 1,
      "outputs": [
        {
          "output_type": "stream",
          "text": "Requirement already satisfied: linearmodels in /home/nbuser/anaconda3_501/lib/python3.6/site-packages (4.10)\nRequirement already satisfied: pandas>=0.19 in /home/nbuser/anaconda3_501/lib/python3.6/site-packages (from linearmodels) (0.23.4)\nRequirement already satisfied: patsy in /home/nbuser/anaconda3_501/lib/python3.6/site-packages (from linearmodels) (0.4.1)\nRequirement already satisfied: numpy>=1.11 in /home/nbuser/anaconda3_501/lib/python3.6/site-packages (from linearmodels) (1.15.2)\nRequirement already satisfied: scipy>=0.18 in /home/nbuser/anaconda3_501/lib/python3.6/site-packages (from linearmodels) (0.19.1)\nRequirement already satisfied: statsmodels>=0.8 in /home/nbuser/anaconda3_501/lib/python3.6/site-packages (from linearmodels) (0.8.0)\nRequirement already satisfied: python-dateutil>=2.5.0 in /home/nbuser/anaconda3_501/lib/python3.6/site-packages (from pandas>=0.19->linearmodels) (2.7.3)\nRequirement already satisfied: pytz>=2011k in /home/nbuser/anaconda3_501/lib/python3.6/site-packages (from pandas>=0.19->linearmodels) (2017.2)\nRequirement already satisfied: six in /home/nbuser/anaconda3_501/lib/python3.6/site-packages (from patsy->linearmodels) (1.11.0)\n\u001b[33mYou are using pip version 18.0, however version 18.1 is available.\nYou should consider upgrading via the 'pip install --upgrade pip' command.\u001b[0m\n",
          "name": "stdout"
        }
      ]
    },
    {
      "metadata": {
        "trusted": true,
        "scrolled": true
      },
      "cell_type": "code",
      "source": "import numpy as np\nimport pandas as pd\nfrom linearmodels.iv import IV2SLS, IVLIML\nimport statsmodels.api as sm\n\najr = pd.read_excel('AJR2001.xlsx',index_col='shortnam')\n\nadd_const = sm.add_constant(ajr)\n\nexp_risk = ajr['avexpr']\nlog_gdp = ajr['logpgp95']\nset_mort = ajr['logem4']\n\n\nmodel = IV2SLS(dependent=log_gdp,exog = add_const['const'],endog=exp_risk,instruments=set_mort).fit()\nprint(model.summary)",
      "execution_count": 2,
      "outputs": [
        {
          "output_type": "stream",
          "text": "/home/nbuser/anaconda3_501/lib/python3.6/site-packages/statsmodels/compat/pandas.py:56: FutureWarning: The pandas.core.datetools module is deprecated and will be removed in a future version. Please use the pandas.tseries module instead.\n  from pandas.core import datetools\n",
          "name": "stderr"
        },
        {
          "output_type": "stream",
          "text": "                          IV-2SLS Estimation Summary                          \n==============================================================================\nDep. Variable:               logpgp95   R-squared:                      0.1870\nEstimator:                    IV-2SLS   Adj. R-squared:                 0.1739\nNo. Observations:                  64   F-statistic:                    28.754\nDate:                Mon, Oct 15 2018   P-value (F-stat)                0.0000\nTime:                        17:31:46   Distribution:                  chi2(1)\nCov. Estimator:                robust                                         \n                                                                              \n                             Parameter Estimates                              \n==============================================================================\n            Parameter  Std. Err.     T-stat    P-value    Lower CI    Upper CI\n------------------------------------------------------------------------------\nconst          1.9097     1.1740     1.6267     0.1038     -0.3912      4.2106\navexpr         0.9443     0.1761     5.3623     0.0000      0.5991      1.2894\n==============================================================================\n\nEndogenous: avexpr\nInstruments: logem4\nRobust Covariance (Heteroskedastic)\nDebiased: False\n",
          "name": "stdout"
        }
      ]
    },
    {
      "metadata": {
        "trusted": true
      },
      "cell_type": "code",
      "source": "model2 = IVLIML(dependent=log_gdp,exog = add_const['const'],endog=exp_risk,instruments=set_mort).fit()\nprint(model2.summary)",
      "execution_count": 3,
      "outputs": [
        {
          "output_type": "stream",
          "text": "                          IV-LIML Estimation Summary                          \n==============================================================================\nDep. Variable:               logpgp95   R-squared:                      0.1870\nEstimator:                    IV-LIML   Adj. R-squared:                 0.1739\nNo. Observations:                  64   F-statistic:                    28.754\nDate:                Mon, Oct 15 2018   P-value (F-stat)                0.0000\nTime:                        17:31:47   Distribution:                  chi2(1)\nCov. Estimator:                robust                                         \n                                                                              \n                             Parameter Estimates                              \n==============================================================================\n            Parameter  Std. Err.     T-stat    P-value    Lower CI    Upper CI\n------------------------------------------------------------------------------\nconst          1.9097     1.1740     1.6267     0.1038     -0.3912      4.2106\navexpr         0.9443     0.1761     5.3623     0.0000      0.5991      1.2894\n==============================================================================\n\nEndogenous: avexpr\nInstruments: logem4\nRobust Covariance (Heteroskedastic)\nDebiased: False\nKappa: 1.000\n",
          "name": "stdout"
        }
      ]
    }
  ],
  "metadata": {
    "kernelspec": {
      "name": "python36",
      "display_name": "Python 3.6",
      "language": "python"
    },
    "language_info": {
      "mimetype": "text/x-python",
      "nbconvert_exporter": "python",
      "name": "python",
      "pygments_lexer": "ipython3",
      "version": "3.6.6",
      "file_extension": ".py",
      "codemirror_mode": {
        "version": 3,
        "name": "ipython"
      }
    }
  },
  "nbformat": 4,
  "nbformat_minor": 2
}