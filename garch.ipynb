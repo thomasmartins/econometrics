{
 "cells": [
  {
   "cell_type": "code",
   "execution_count": 2,
   "metadata": {},
   "outputs": [
    {
     "name": "stdout",
     "output_type": "stream",
     "text": [
      "Collecting pyflux\n",
      "  Downloading https://files.pythonhosted.org/packages/37/e2/ac8ea14d34556e83a9fe9e23ba7b02ca14951849b9637c238ca83d04ac3c/pyflux-0.4.15.tar.gz (1.3MB)\n",
      "Requirement already satisfied: numpy in c:\\programdata\\anaconda3\\lib\\site-packages (from pyflux) (1.14.3)\n",
      "Requirement already satisfied: pandas in c:\\programdata\\anaconda3\\lib\\site-packages (from pyflux) (0.23.0)\n",
      "Requirement already satisfied: scipy in c:\\programdata\\anaconda3\\lib\\site-packages (from pyflux) (1.1.0)\n",
      "Collecting numdifftools (from pyflux)\n",
      "  Downloading https://files.pythonhosted.org/packages/3f/b2/a492a473c3bcdfe8889986beb331e7198a718282de8c0ec8c9fec947878c/numdifftools-0.9.20-py2.py3-none-any.whl (3.2MB)\n",
      "Requirement already satisfied: patsy in c:\\programdata\\anaconda3\\lib\\site-packages (from pyflux) (0.5.0)\n",
      "Requirement already satisfied: pytz>=2011k in c:\\programdata\\anaconda3\\lib\\site-packages (from pandas->pyflux) (2018.4)\n",
      "Requirement already satisfied: python-dateutil>=2.5.0 in c:\\programdata\\anaconda3\\lib\\site-packages (from pandas->pyflux) (2.7.3)\n",
      "Requirement already satisfied: setuptools>=9.0 in c:\\programdata\\anaconda3\\lib\\site-packages (from numdifftools->pyflux) (39.1.0)\n",
      "Collecting algopy>=0.4 (from numdifftools->pyflux)\n",
      "  Downloading https://files.pythonhosted.org/packages/1e/44/e22102b72f0eb3118d4a9e4815104515e1996c3695c82047eeede8a41f89/algopy-0.5.7.zip (189kB)\n",
      "Requirement already satisfied: six in c:\\programdata\\anaconda3\\lib\\site-packages (from patsy->pyflux) (1.11.0)\n",
      "Building wheels for collected packages: pyflux, algopy\n",
      "  Running setup.py bdist_wheel for pyflux: started\n",
      "  Running setup.py bdist_wheel for pyflux: still running...\n",
      "  Running setup.py bdist_wheel for pyflux: still running...\n",
      "  Running setup.py bdist_wheel for pyflux: still running...\n",
      "  Running setup.py bdist_wheel for pyflux: still running...\n",
      "  Running setup.py bdist_wheel for pyflux: finished with status 'done'\n",
      "  Stored in directory: C:\\Users\\thoma\\AppData\\Local\\pip\\Cache\\wheels\\36\\24\\09\\d18fa4f926cc90598d23ebd09fb4b0fd7b3dd1d2f506b952de\n",
      "  Running setup.py bdist_wheel for algopy: started\n",
      "  Running setup.py bdist_wheel for algopy: finished with status 'done'\n",
      "  Stored in directory: C:\\Users\\thoma\\AppData\\Local\\pip\\Cache\\wheels\\58\\08\\1a\\722554a81c38724475372972cd0e50081ec63c7a58e3c48fa8\n",
      "Successfully built pyflux algopy\n",
      "Installing collected packages: algopy, numdifftools, pyflux\n",
      "Successfully installed algopy-0.5.7 numdifftools-0.9.20 pyflux-0.4.15\n"
     ]
    },
    {
     "name": "stderr",
     "output_type": "stream",
     "text": [
      "distributed 1.21.8 requires msgpack, which is not installed.\n",
      "You are using pip version 10.0.1, however version 19.0.3 is available.\n",
      "You should consider upgrading via the 'python -m pip install --upgrade pip' command.\n"
     ]
    }
   ],
   "source": [
    "import numpy as np\n",
    "import pandas as pd\n",
    "import matplotlib.pyplot as plt\n",
    "import quandl\n",
    "import pyflux as pf\n",
    "%matplotlib inline"
   ]
  },
  {
   "cell_type": "code",
   "execution_count": 3,
   "metadata": {},
   "outputs": [
    {
     "data": {
      "text/html": [
       "<div>\n",
       "<style scoped>\n",
       "    .dataframe tbody tr th:only-of-type {\n",
       "        vertical-align: middle;\n",
       "    }\n",
       "\n",
       "    .dataframe tbody tr th {\n",
       "        vertical-align: top;\n",
       "    }\n",
       "\n",
       "    .dataframe thead th {\n",
       "        text-align: right;\n",
       "    }\n",
       "</style>\n",
       "<table border=\"1\" class=\"dataframe\">\n",
       "  <thead>\n",
       "    <tr style=\"text-align: right;\">\n",
       "      <th></th>\n",
       "      <th>24h Average</th>\n",
       "      <th>12h Average</th>\n",
       "      <th>Last</th>\n",
       "      <th>Volume (BTC)</th>\n",
       "    </tr>\n",
       "    <tr>\n",
       "      <th>Date</th>\n",
       "      <th></th>\n",
       "      <th></th>\n",
       "      <th></th>\n",
       "      <th></th>\n",
       "    </tr>\n",
       "  </thead>\n",
       "  <tbody>\n",
       "    <tr>\n",
       "      <th>2014-04-15</th>\n",
       "      <td>1102.50</td>\n",
       "      <td>1172.21</td>\n",
       "      <td>1095.01</td>\n",
       "      <td>2.39</td>\n",
       "    </tr>\n",
       "    <tr>\n",
       "      <th>2014-04-16</th>\n",
       "      <td>1339.39</td>\n",
       "      <td>1353.52</td>\n",
       "      <td>1416.07</td>\n",
       "      <td>1.41</td>\n",
       "    </tr>\n",
       "    <tr>\n",
       "      <th>2014-04-17</th>\n",
       "      <td>1304.65</td>\n",
       "      <td>1396.92</td>\n",
       "      <td>1386.46</td>\n",
       "      <td>2.68</td>\n",
       "    </tr>\n",
       "    <tr>\n",
       "      <th>2014-04-18</th>\n",
       "      <td>1398.57</td>\n",
       "      <td>1398.57</td>\n",
       "      <td>1021.28</td>\n",
       "      <td>0.40</td>\n",
       "    </tr>\n",
       "    <tr>\n",
       "      <th>2014-04-19</th>\n",
       "      <td>1393.96</td>\n",
       "      <td>NaN</td>\n",
       "      <td>1393.96</td>\n",
       "      <td>0.11</td>\n",
       "    </tr>\n",
       "  </tbody>\n",
       "</table>\n",
       "</div>"
      ],
      "text/plain": [
       "            24h Average  12h Average     Last  Volume (BTC)\n",
       "Date                                                       \n",
       "2014-04-15      1102.50      1172.21  1095.01          2.39\n",
       "2014-04-16      1339.39      1353.52  1416.07          1.41\n",
       "2014-04-17      1304.65      1396.92  1386.46          2.68\n",
       "2014-04-18      1398.57      1398.57  1021.28          0.40\n",
       "2014-04-19      1393.96          NaN  1393.96          0.11"
      ]
     },
     "execution_count": 3,
     "metadata": {},
     "output_type": "execute_result"
    }
   ],
   "source": [
    "bitcoin = quandl.get('LOCALBTC/BRL')\n",
    "\n",
    "bitcoin.head()"
   ]
  },
  {
   "cell_type": "code",
   "execution_count": 4,
   "metadata": {},
   "outputs": [
    {
     "data": {
      "text/plain": [
       "[<matplotlib.lines.Line2D at 0x1aa093d10f0>]"
      ]
     },
     "execution_count": 4,
     "metadata": {},
     "output_type": "execute_result"
    },
    {
     "data": {
      "image/png": "[encoded data removed]",
      "text/plain": [
       "<Figure size 432x288 with 1 Axes>"
      ]
     },
     "metadata": {},
     "output_type": "display_data"
    }
   ],
   "source": [
    "btc_r = np.diff(np.log(bitcoin['Last']))\n",
    "\n",
    "plt.plot(btc_r)"
   ]
  },
  {
   "cell_type": "code",
   "execution_count": 5,
   "metadata": {},
   "outputs": [
    {
     "name": "stdout",
     "output_type": "stream",
     "text": [
      "GARCH(1,1)                                                                                                \n",
      "======================================================= ==================================================\n",
      "Dependent Variable: Series                              Method: MLE                                       \n",
      "Start Date: 1                                           Log Likelihood: 885.2257                          \n",
      "End Date: 1603                                          AIC: -1762.4514                                   \n",
      "Number of observations: 1603                            BIC: -1740.9329                                   \n",
      "==========================================================================================================\n",
      "Latent Variable                          Estimate   Std Error  z        P>|z|    95% C.I.                 \n",
      "======================================== ========== ========== ======== ======== =========================\n",
      "Vol Constant                             0.014                                                            \n",
      "q(1)                                     0.2427                                                           \n",
      "p(1)                                     0.1521                                                           \n",
      "Returns Constant                         0.0059     0.0032     1.8326   0.0669   (-0.0004 | 0.0121)       \n",
      "==========================================================================================================\n"
     ]
    }
   ],
   "source": [
    "model = pf.GARCH(p=1,q=1,data=btc_r)\n",
    "result = model.fit()\n",
    "result.summary()"
   ]
  }
 ],
 "metadata": {
  "kernelspec": {
   "display_name": "Python 3",
   "language": "python",
   "name": "python3"
  }
 },
 "nbformat": 4,
 "nbformat_minor": 2
}
